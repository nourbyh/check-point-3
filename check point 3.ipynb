{
 "cells": [
  {
   "cell_type": "markdown",
   "id": "387f15ea",
   "metadata": {},
   "source": [
    "# Question 1:"
   ]
  },
  {
   "cell_type": "code",
   "execution_count": 5,
   "id": "d82f3526",
   "metadata": {},
   "outputs": [
    {
     "name": "stdout",
     "output_type": "stream",
     "text": [
      "enter your list :2,3,6\n",
      "result : 36\n"
     ]
    }
   ],
   "source": [
    "n=input('enter your list :')\n",
    "my_list=n.split(',')\n",
    "x=1\n",
    "for elm in my_list :\n",
    "     x=x*int(elm)\n",
    "print('result :',x)  "
   ]
  },
  {
   "cell_type": "markdown",
   "id": "4a1d5c97",
   "metadata": {},
   "source": [
    "# Question 2:\n"
   ]
  },
  {
   "cell_type": "code",
   "execution_count": 9,
   "id": "f2f662fa",
   "metadata": {},
   "outputs": [
    {
     "name": "stdout",
     "output_type": "stream",
     "text": [
      "[(1, 2), (2, 1), (2, 3), (2, 5), (4, 4)]\n"
     ]
    }
   ],
   "source": [
    "a=[(2, 5), (1, 2), (4, 4), (2, 3), (2, 1)]\n",
    "print(sorted(a))"
   ]
  },
  {
   "cell_type": "markdown",
   "id": "ea56f906",
   "metadata": {},
   "source": [
    "# Question 3:\n",
    "\n"
   ]
  },
  {
   "cell_type": "code",
   "execution_count": 4,
   "id": "d3b8f525",
   "metadata": {},
   "outputs": [
    {
     "name": "stdout",
     "output_type": "stream",
     "text": [
      "{'a': 400, 'b': 400, 'd': 400, 'c': 300}\n"
     ]
    }
   ],
   "source": [
    "d1 = {'a': 100, 'b': 200, 'c':300}\n",
    "d2 = {'a': 300, 'b': 200, 'd':400}\n",
    "d3 = {}\n",
    "for i in d2 :\n",
    "    if i in d1 :\n",
    "        d3[i]=d1[i]+d2[i]\n",
    "         \n",
    "    if i not in d1 :\n",
    "            d3[i]=d2[i]\n",
    "            \n",
    "for i in d1:\n",
    "    if i not in d2:\n",
    "        d3[i]=d1[i]\n",
    "print (d3)       "
   ]
  },
  {
   "cell_type": "markdown",
   "id": "a8c02122",
   "metadata": {},
   "source": [
    "# Question 4 :\n"
   ]
  },
  {
   "cell_type": "code",
   "execution_count": 3,
   "id": "37bf0c64",
   "metadata": {},
   "outputs": [
    {
     "name": "stdout",
     "output_type": "stream",
     "text": [
      "enter a number :8\n",
      "{1: 1, 2: 4, 3: 9, 4: 16, 5: 25, 6: 36, 7: 49, 8: 64}\n"
     ]
    }
   ],
   "source": [
    "num=int(input('enter a number :'))\n",
    "dict={}\n",
    "for n in range (1,num+1):\n",
    "    dict[n]=n*n\n",
    "print(dict)    "
   ]
  },
  {
   "cell_type": "markdown",
   "id": "d1094274",
   "metadata": {},
   "source": [
    "# Question 5:  "
   ]
  },
  {
   "cell_type": "code",
   "execution_count": 1,
   "id": "155c0481",
   "metadata": {},
   "outputs": [
    {
     "name": "stdout",
     "output_type": "stream",
     "text": [
      "[('item3', '24.5'), ('item2', '15.10'), ('item1', '12.20')]\n"
     ]
    }
   ],
   "source": [
    "n=[('item1', '12.20'), ('item2', '15.10'), ('item3', '24.5')]\n",
    "\n",
    "n.sort(reverse=True)\n",
    "print(n)"
   ]
  },
  {
   "cell_type": "code",
   "execution_count": null,
   "id": "02a089de",
   "metadata": {},
   "outputs": [],
   "source": []
  }
 ],
 "metadata": {
  "kernelspec": {
   "display_name": "Python 3 (ipykernel)",
   "language": "python",
   "name": "python3"
  },
  "language_info": {
   "codemirror_mode": {
    "name": "ipython",
    "version": 3
   },
   "file_extension": ".py",
   "mimetype": "text/x-python",
   "name": "python",
   "nbconvert_exporter": "python",
   "pygments_lexer": "ipython3",
   "version": "3.9.7"
  }
 },
 "nbformat": 4,
 "nbformat_minor": 5
}
